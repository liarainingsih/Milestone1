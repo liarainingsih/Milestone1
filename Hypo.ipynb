{
 "cells": [
  {
   "cell_type": "markdown",
   "id": "afe5a1f4",
   "metadata": {},
   "source": [
    "## Chi Square Testing\n",
    "Uji Chi-square yang umum dikenal oleh banyak orang adalah pengujian terhadap keterkaitan antara dua buah variabel hasil perhitungan (count data), sehingga dasar pengujian yang digunakan adalah selisih nilai proporsi dari nilai observasi dengan nilai harapan. "
   ]
  },
  {
   "cell_type": "code",
   "execution_count": 23,
   "id": "9a0ee06c",
   "metadata": {},
   "outputs": [],
   "source": [
    "# Import library\n",
    "import pandas as pd\n",
    "import numpy as np\n",
    "import matplotlib.pyplot as plt\n",
    "import seaborn as sns\n",
    "import scipy.stats as stats\n",
    "from scipy.stats import t as t_func\n",
    "from scipy.stats import norm\n",
    "from scipy.stats import kurtosis\n",
    "\n",
    "%matplotlib inline"
   ]
  },
  {
   "cell_type": "markdown",
   "id": "484b27ff",
   "metadata": {},
   "source": [
    "##### Import dataframe "
   ]
  },
  {
   "cell_type": "code",
   "execution_count": 61,
   "id": "2d769628",
   "metadata": {
    "scrolled": true
   },
   "outputs": [],
   "source": [
    "df = pd.read_csv('supermarket.csv')"
   ]
  },
  {
   "cell_type": "code",
   "execution_count": 79,
   "id": "fb6b3f3f",
   "metadata": {},
   "outputs": [
    {
     "data": {
      "text/html": [
       "<div>\n",
       "<style scoped>\n",
       "    .dataframe tbody tr th:only-of-type {\n",
       "        vertical-align: middle;\n",
       "    }\n",
       "\n",
       "    .dataframe tbody tr th {\n",
       "        vertical-align: top;\n",
       "    }\n",
       "\n",
       "    .dataframe thead th {\n",
       "        text-align: right;\n",
       "    }\n",
       "</style>\n",
       "<table border=\"1\" class=\"dataframe\">\n",
       "  <thead>\n",
       "    <tr style=\"text-align: right;\">\n",
       "      <th></th>\n",
       "      <th>Invoice ID</th>\n",
       "      <th>Branch</th>\n",
       "      <th>City</th>\n",
       "      <th>Customer type</th>\n",
       "      <th>Gender</th>\n",
       "      <th>Unit price</th>\n",
       "      <th>Quantity</th>\n",
       "      <th>Tax 5%</th>\n",
       "      <th>Total</th>\n",
       "      <th>Date</th>\n",
       "      <th>Time</th>\n",
       "      <th>Payment</th>\n",
       "      <th>cogs</th>\n",
       "      <th>gross margin percentage</th>\n",
       "      <th>gross income</th>\n",
       "      <th>Rating</th>\n",
       "    </tr>\n",
       "    <tr>\n",
       "      <th>Product line</th>\n",
       "      <th></th>\n",
       "      <th></th>\n",
       "      <th></th>\n",
       "      <th></th>\n",
       "      <th></th>\n",
       "      <th></th>\n",
       "      <th></th>\n",
       "      <th></th>\n",
       "      <th></th>\n",
       "      <th></th>\n",
       "      <th></th>\n",
       "      <th></th>\n",
       "      <th></th>\n",
       "      <th></th>\n",
       "      <th></th>\n",
       "      <th></th>\n",
       "    </tr>\n",
       "  </thead>\n",
       "  <tbody>\n",
       "    <tr>\n",
       "      <th>Electronic accessories</th>\n",
       "      <td>170</td>\n",
       "      <td>170</td>\n",
       "      <td>170</td>\n",
       "      <td>170</td>\n",
       "      <td>170</td>\n",
       "      <td>170</td>\n",
       "      <td>170</td>\n",
       "      <td>170</td>\n",
       "      <td>170</td>\n",
       "      <td>170</td>\n",
       "      <td>170</td>\n",
       "      <td>170</td>\n",
       "      <td>170</td>\n",
       "      <td>170</td>\n",
       "      <td>170</td>\n",
       "      <td>170</td>\n",
       "    </tr>\n",
       "    <tr>\n",
       "      <th>Fashion accessories</th>\n",
       "      <td>178</td>\n",
       "      <td>178</td>\n",
       "      <td>178</td>\n",
       "      <td>178</td>\n",
       "      <td>178</td>\n",
       "      <td>178</td>\n",
       "      <td>178</td>\n",
       "      <td>178</td>\n",
       "      <td>178</td>\n",
       "      <td>178</td>\n",
       "      <td>178</td>\n",
       "      <td>178</td>\n",
       "      <td>178</td>\n",
       "      <td>178</td>\n",
       "      <td>178</td>\n",
       "      <td>178</td>\n",
       "    </tr>\n",
       "    <tr>\n",
       "      <th>Food and beverages</th>\n",
       "      <td>174</td>\n",
       "      <td>174</td>\n",
       "      <td>174</td>\n",
       "      <td>174</td>\n",
       "      <td>174</td>\n",
       "      <td>174</td>\n",
       "      <td>174</td>\n",
       "      <td>174</td>\n",
       "      <td>174</td>\n",
       "      <td>174</td>\n",
       "      <td>174</td>\n",
       "      <td>174</td>\n",
       "      <td>174</td>\n",
       "      <td>174</td>\n",
       "      <td>174</td>\n",
       "      <td>174</td>\n",
       "    </tr>\n",
       "    <tr>\n",
       "      <th>Health and beauty</th>\n",
       "      <td>152</td>\n",
       "      <td>152</td>\n",
       "      <td>152</td>\n",
       "      <td>152</td>\n",
       "      <td>152</td>\n",
       "      <td>152</td>\n",
       "      <td>152</td>\n",
       "      <td>152</td>\n",
       "      <td>152</td>\n",
       "      <td>152</td>\n",
       "      <td>152</td>\n",
       "      <td>152</td>\n",
       "      <td>152</td>\n",
       "      <td>152</td>\n",
       "      <td>152</td>\n",
       "      <td>152</td>\n",
       "    </tr>\n",
       "    <tr>\n",
       "      <th>Home and lifestyle</th>\n",
       "      <td>160</td>\n",
       "      <td>160</td>\n",
       "      <td>160</td>\n",
       "      <td>160</td>\n",
       "      <td>160</td>\n",
       "      <td>160</td>\n",
       "      <td>160</td>\n",
       "      <td>160</td>\n",
       "      <td>160</td>\n",
       "      <td>160</td>\n",
       "      <td>160</td>\n",
       "      <td>160</td>\n",
       "      <td>160</td>\n",
       "      <td>160</td>\n",
       "      <td>160</td>\n",
       "      <td>160</td>\n",
       "    </tr>\n",
       "    <tr>\n",
       "      <th>Sports and travel</th>\n",
       "      <td>166</td>\n",
       "      <td>166</td>\n",
       "      <td>166</td>\n",
       "      <td>166</td>\n",
       "      <td>166</td>\n",
       "      <td>166</td>\n",
       "      <td>166</td>\n",
       "      <td>166</td>\n",
       "      <td>166</td>\n",
       "      <td>166</td>\n",
       "      <td>166</td>\n",
       "      <td>166</td>\n",
       "      <td>166</td>\n",
       "      <td>166</td>\n",
       "      <td>166</td>\n",
       "      <td>166</td>\n",
       "    </tr>\n",
       "  </tbody>\n",
       "</table>\n",
       "</div>"
      ],
      "text/plain": [
       "                        Invoice ID  Branch  City  Customer type  Gender  \\\n",
       "Product line                                                              \n",
       "Electronic accessories         170     170   170            170     170   \n",
       "Fashion accessories            178     178   178            178     178   \n",
       "Food and beverages             174     174   174            174     174   \n",
       "Health and beauty              152     152   152            152     152   \n",
       "Home and lifestyle             160     160   160            160     160   \n",
       "Sports and travel              166     166   166            166     166   \n",
       "\n",
       "                        Unit price  Quantity  Tax 5%  Total  Date  Time  \\\n",
       "Product line                                                              \n",
       "Electronic accessories         170       170     170    170   170   170   \n",
       "Fashion accessories            178       178     178    178   178   178   \n",
       "Food and beverages             174       174     174    174   174   174   \n",
       "Health and beauty              152       152     152    152   152   152   \n",
       "Home and lifestyle             160       160     160    160   160   160   \n",
       "Sports and travel              166       166     166    166   166   166   \n",
       "\n",
       "                        Payment  cogs  gross margin percentage  gross income  \\\n",
       "Product line                                                                   \n",
       "Electronic accessories      170   170                      170           170   \n",
       "Fashion accessories         178   178                      178           178   \n",
       "Food and beverages          174   174                      174           174   \n",
       "Health and beauty           152   152                      152           152   \n",
       "Home and lifestyle          160   160                      160           160   \n",
       "Sports and travel           166   166                      166           166   \n",
       "\n",
       "                        Rating  \n",
       "Product line                    \n",
       "Electronic accessories     170  \n",
       "Fashion accessories        178  \n",
       "Food and beverages         174  \n",
       "Health and beauty          152  \n",
       "Home and lifestyle         160  \n",
       "Sports and travel          166  "
      ]
     },
     "execution_count": 79,
     "metadata": {},
     "output_type": "execute_result"
    }
   ],
   "source": [
    "df.groupby('Product line').count()"
   ]
  },
  {
   "cell_type": "code",
   "execution_count": 83,
   "id": "37cc9313",
   "metadata": {},
   "outputs": [
    {
     "data": {
      "text/html": [
       "<div>\n",
       "<style scoped>\n",
       "    .dataframe tbody tr th:only-of-type {\n",
       "        vertical-align: middle;\n",
       "    }\n",
       "\n",
       "    .dataframe tbody tr th {\n",
       "        vertical-align: top;\n",
       "    }\n",
       "\n",
       "    .dataframe thead th {\n",
       "        text-align: right;\n",
       "    }\n",
       "</style>\n",
       "<table border=\"1\" class=\"dataframe\">\n",
       "  <thead>\n",
       "    <tr style=\"text-align: right;\">\n",
       "      <th></th>\n",
       "      <th>Product line</th>\n",
       "      <th>City</th>\n",
       "      <th>city_count</th>\n",
       "      <th>pcg_csum</th>\n",
       "    </tr>\n",
       "  </thead>\n",
       "  <tbody>\n",
       "    <tr>\n",
       "      <th>1</th>\n",
       "      <td>Fashion accessories</td>\n",
       "      <td>178</td>\n",
       "      <td>178</td>\n",
       "      <td>0.178</td>\n",
       "    </tr>\n",
       "    <tr>\n",
       "      <th>2</th>\n",
       "      <td>Food and beverages</td>\n",
       "      <td>174</td>\n",
       "      <td>352</td>\n",
       "      <td>0.352</td>\n",
       "    </tr>\n",
       "    <tr>\n",
       "      <th>0</th>\n",
       "      <td>Electronic accessories</td>\n",
       "      <td>170</td>\n",
       "      <td>522</td>\n",
       "      <td>0.522</td>\n",
       "    </tr>\n",
       "    <tr>\n",
       "      <th>5</th>\n",
       "      <td>Sports and travel</td>\n",
       "      <td>166</td>\n",
       "      <td>688</td>\n",
       "      <td>0.688</td>\n",
       "    </tr>\n",
       "    <tr>\n",
       "      <th>4</th>\n",
       "      <td>Home and lifestyle</td>\n",
       "      <td>160</td>\n",
       "      <td>848</td>\n",
       "      <td>0.848</td>\n",
       "    </tr>\n",
       "  </tbody>\n",
       "</table>\n",
       "</div>"
      ],
      "text/plain": [
       "             Product line  City  city_count  pcg_csum\n",
       "1     Fashion accessories   178         178     0.178\n",
       "2      Food and beverages   174         352     0.352\n",
       "0  Electronic accessories   170         522     0.522\n",
       "5       Sports and travel   166         688     0.688\n",
       "4      Home and lifestyle   160         848     0.848"
      ]
     },
     "execution_count": 83,
     "metadata": {},
     "output_type": "execute_result"
    }
   ],
   "source": [
    "df_prd = df.groupby('Product line').count().reset_index()[['Product line','City']].sort_values('City',ascending=False)\n",
    "df_prd['city_count']=df_prd['City'].cumsum()\n",
    "df_prd['pcg_csum']=df_prd['city_count']/df_prd['city_count'].max()\n",
    "df_prd = df_prd[df_prd['pcg_csum']<=0.95]\n",
    "df_prd"
   ]
  },
  {
   "cell_type": "code",
   "execution_count": 84,
   "id": "a168a334",
   "metadata": {},
   "outputs": [
    {
     "data": {
      "text/html": [
       "<div>\n",
       "<style scoped>\n",
       "    .dataframe tbody tr th:only-of-type {\n",
       "        vertical-align: middle;\n",
       "    }\n",
       "\n",
       "    .dataframe tbody tr th {\n",
       "        vertical-align: top;\n",
       "    }\n",
       "\n",
       "    .dataframe thead th {\n",
       "        text-align: right;\n",
       "    }\n",
       "</style>\n",
       "<table border=\"1\" class=\"dataframe\">\n",
       "  <thead>\n",
       "    <tr style=\"text-align: right;\">\n",
       "      <th></th>\n",
       "      <th>City</th>\n",
       "      <th>city_count</th>\n",
       "      <th>pcg_csum</th>\n",
       "    </tr>\n",
       "  </thead>\n",
       "  <tbody>\n",
       "    <tr>\n",
       "      <th>count</th>\n",
       "      <td>5.0000</td>\n",
       "      <td>5.000000</td>\n",
       "      <td>5.000000</td>\n",
       "    </tr>\n",
       "    <tr>\n",
       "      <th>mean</th>\n",
       "      <td>169.6000</td>\n",
       "      <td>517.600000</td>\n",
       "      <td>0.517600</td>\n",
       "    </tr>\n",
       "    <tr>\n",
       "      <th>std</th>\n",
       "      <td>6.9857</td>\n",
       "      <td>265.033583</td>\n",
       "      <td>0.265034</td>\n",
       "    </tr>\n",
       "    <tr>\n",
       "      <th>min</th>\n",
       "      <td>160.0000</td>\n",
       "      <td>178.000000</td>\n",
       "      <td>0.178000</td>\n",
       "    </tr>\n",
       "    <tr>\n",
       "      <th>25%</th>\n",
       "      <td>166.0000</td>\n",
       "      <td>352.000000</td>\n",
       "      <td>0.352000</td>\n",
       "    </tr>\n",
       "    <tr>\n",
       "      <th>50%</th>\n",
       "      <td>170.0000</td>\n",
       "      <td>522.000000</td>\n",
       "      <td>0.522000</td>\n",
       "    </tr>\n",
       "    <tr>\n",
       "      <th>75%</th>\n",
       "      <td>174.0000</td>\n",
       "      <td>688.000000</td>\n",
       "      <td>0.688000</td>\n",
       "    </tr>\n",
       "    <tr>\n",
       "      <th>max</th>\n",
       "      <td>178.0000</td>\n",
       "      <td>848.000000</td>\n",
       "      <td>0.848000</td>\n",
       "    </tr>\n",
       "  </tbody>\n",
       "</table>\n",
       "</div>"
      ],
      "text/plain": [
       "           City  city_count  pcg_csum\n",
       "count    5.0000    5.000000  5.000000\n",
       "mean   169.6000  517.600000  0.517600\n",
       "std      6.9857  265.033583  0.265034\n",
       "min    160.0000  178.000000  0.178000\n",
       "25%    166.0000  352.000000  0.352000\n",
       "50%    170.0000  522.000000  0.522000\n",
       "75%    174.0000  688.000000  0.688000\n",
       "max    178.0000  848.000000  0.848000"
      ]
     },
     "execution_count": 84,
     "metadata": {},
     "output_type": "execute_result"
    }
   ],
   "source": [
    "df_prd.describe()"
   ]
  },
  {
   "cell_type": "code",
   "execution_count": 86,
   "id": "b6b20347",
   "metadata": {},
   "outputs": [
    {
     "name": "stdout",
     "output_type": "stream",
     "text": [
      "count    1000.000000\n",
      "mean      322.966749\n",
      "std       245.885335\n",
      "min        10.678500\n",
      "25%       124.422375\n",
      "50%       253.848000\n",
      "75%       471.350250\n",
      "max      1042.650000\n",
      "Name: Total, dtype: float64\n"
     ]
    },
    {
     "data": {
      "text/plain": [
       "322.96674900000005"
      ]
     },
     "execution_count": 86,
     "metadata": {},
     "output_type": "execute_result"
    }
   ],
   "source": [
    "print(df['Total'].describe())\n",
    "df['Total'].describe()['mean']"
   ]
  },
  {
   "cell_type": "markdown",
   "id": "b9e3ebe7",
   "metadata": {},
   "source": [
    "#### Chi Square Test"
   ]
  },
  {
   "cell_type": "code",
   "execution_count": 96,
   "id": "f96265e7",
   "metadata": {},
   "outputs": [
    {
     "data": {
      "text/html": [
       "<div>\n",
       "<style scoped>\n",
       "    .dataframe tbody tr th:only-of-type {\n",
       "        vertical-align: middle;\n",
       "    }\n",
       "\n",
       "    .dataframe tbody tr th {\n",
       "        vertical-align: top;\n",
       "    }\n",
       "\n",
       "    .dataframe thead th {\n",
       "        text-align: right;\n",
       "    }\n",
       "</style>\n",
       "<table border=\"1\" class=\"dataframe\">\n",
       "  <thead>\n",
       "    <tr style=\"text-align: right;\">\n",
       "      <th>Product line</th>\n",
       "      <th>Electronic accessories</th>\n",
       "      <th>Fashion accessories</th>\n",
       "      <th>Food and beverages</th>\n",
       "      <th>Health and beauty</th>\n",
       "      <th>Home and lifestyle</th>\n",
       "      <th>Sports and travel</th>\n",
       "    </tr>\n",
       "    <tr>\n",
       "      <th>City</th>\n",
       "      <th></th>\n",
       "      <th></th>\n",
       "      <th></th>\n",
       "      <th></th>\n",
       "      <th></th>\n",
       "      <th></th>\n",
       "    </tr>\n",
       "  </thead>\n",
       "  <tbody>\n",
       "    <tr>\n",
       "      <th>Mandalay</th>\n",
       "      <td>55</td>\n",
       "      <td>62</td>\n",
       "      <td>50</td>\n",
       "      <td>53</td>\n",
       "      <td>50</td>\n",
       "      <td>62</td>\n",
       "    </tr>\n",
       "    <tr>\n",
       "      <th>Naypyitaw</th>\n",
       "      <td>55</td>\n",
       "      <td>65</td>\n",
       "      <td>66</td>\n",
       "      <td>52</td>\n",
       "      <td>45</td>\n",
       "      <td>45</td>\n",
       "    </tr>\n",
       "    <tr>\n",
       "      <th>Yangon</th>\n",
       "      <td>60</td>\n",
       "      <td>51</td>\n",
       "      <td>58</td>\n",
       "      <td>47</td>\n",
       "      <td>65</td>\n",
       "      <td>59</td>\n",
       "    </tr>\n",
       "  </tbody>\n",
       "</table>\n",
       "</div>"
      ],
      "text/plain": [
       "Product line  Electronic accessories  Fashion accessories  Food and beverages  \\\n",
       "City                                                                            \n",
       "Mandalay                          55                   62                  50   \n",
       "Naypyitaw                         55                   65                  66   \n",
       "Yangon                            60                   51                  58   \n",
       "\n",
       "Product line  Health and beauty  Home and lifestyle  Sports and travel  \n",
       "City                                                                    \n",
       "Mandalay                     53                  50                 62  \n",
       "Naypyitaw                    52                  45                 45  \n",
       "Yangon                       47                  65                 59  "
      ]
     },
     "execution_count": 96,
     "metadata": {},
     "output_type": "execute_result"
    }
   ],
   "source": [
    "# Pivot Dataframe\n",
    "df_chi = pd.read_csv('supermarket.csv')\n",
    "df_pivot=df_chi.groupby(['City','Product line']).count()[['Branch','Total']].reset_index()\n",
    "df_pivot = df_pivot.pivot(index=\"City\",columns=\"Product line\", values='Branch').fillna(0)\n",
    "df_pivot"
   ]
  },
  {
   "cell_type": "code",
   "execution_count": 97,
   "id": "0237613f",
   "metadata": {},
   "outputs": [
    {
     "name": "stdout",
     "output_type": "stream",
     "text": [
      "Observed chi2: 11.56\n",
      "p-value: 0.3156\n"
     ]
    }
   ],
   "source": [
    "chisq, pvalue, df, expected = stats.chi2_contingency(df_pivot)\n",
    "print(f'Observed chi2: {chisq:.2f}')\n",
    "print(f'p-value: {pvalue:.4f}')"
   ]
  },
  {
   "cell_type": "markdown",
   "id": "a7c4b472",
   "metadata": {},
   "source": [
    "#### Kesimpulan:\n",
    "P-Value 0.3156 H0 diterima. Tidak ada hubungan antara City dengan pembelian product line."
   ]
  },
  {
   "cell_type": "markdown",
   "id": "257fb984",
   "metadata": {},
   "source": [
    "## Two Sample Test"
   ]
  },
  {
   "cell_type": "code",
   "execution_count": 104,
   "id": "dec66c29",
   "metadata": {},
   "outputs": [],
   "source": [
    "df_prod=df_chi.groupby('Product line').agg({'Total':['count','mean']}).reset_index()\n",
    "df_prod.columns = df_prod.columns.droplevel()"
   ]
  },
  {
   "cell_type": "code",
   "execution_count": 105,
   "id": "43a1f548",
   "metadata": {},
   "outputs": [
    {
     "data": {
      "text/html": [
       "<div>\n",
       "<style scoped>\n",
       "    .dataframe tbody tr th:only-of-type {\n",
       "        vertical-align: middle;\n",
       "    }\n",
       "\n",
       "    .dataframe tbody tr th {\n",
       "        vertical-align: top;\n",
       "    }\n",
       "\n",
       "    .dataframe thead th {\n",
       "        text-align: right;\n",
       "    }\n",
       "</style>\n",
       "<table border=\"1\" class=\"dataframe\">\n",
       "  <thead>\n",
       "    <tr style=\"text-align: right;\">\n",
       "      <th></th>\n",
       "      <th></th>\n",
       "      <th>count</th>\n",
       "      <th>mean</th>\n",
       "    </tr>\n",
       "  </thead>\n",
       "  <tbody>\n",
       "    <tr>\n",
       "      <th>1</th>\n",
       "      <td>Fashion accessories</td>\n",
       "      <td>178</td>\n",
       "      <td>305.089298</td>\n",
       "    </tr>\n",
       "    <tr>\n",
       "      <th>2</th>\n",
       "      <td>Food and beverages</td>\n",
       "      <td>174</td>\n",
       "      <td>322.671517</td>\n",
       "    </tr>\n",
       "    <tr>\n",
       "      <th>0</th>\n",
       "      <td>Electronic accessories</td>\n",
       "      <td>170</td>\n",
       "      <td>319.632538</td>\n",
       "    </tr>\n",
       "    <tr>\n",
       "      <th>5</th>\n",
       "      <td>Sports and travel</td>\n",
       "      <td>166</td>\n",
       "      <td>332.065220</td>\n",
       "    </tr>\n",
       "    <tr>\n",
       "      <th>4</th>\n",
       "      <td>Home and lifestyle</td>\n",
       "      <td>160</td>\n",
       "      <td>336.636956</td>\n",
       "    </tr>\n",
       "    <tr>\n",
       "      <th>3</th>\n",
       "      <td>Health and beauty</td>\n",
       "      <td>152</td>\n",
       "      <td>323.643020</td>\n",
       "    </tr>\n",
       "  </tbody>\n",
       "</table>\n",
       "</div>"
      ],
      "text/plain": [
       "                           count        mean\n",
       "1     Fashion accessories    178  305.089298\n",
       "2      Food and beverages    174  322.671517\n",
       "0  Electronic accessories    170  319.632538\n",
       "5       Sports and travel    166  332.065220\n",
       "4      Home and lifestyle    160  336.636956\n",
       "3       Health and beauty    152  323.643020"
      ]
     },
     "execution_count": 105,
     "metadata": {},
     "output_type": "execute_result"
    }
   ],
   "source": [
    "df_prod.sort_values('count',ascending=False)"
   ]
  },
  {
   "cell_type": "code",
   "execution_count": 107,
   "id": "873d4c3c",
   "metadata": {},
   "outputs": [],
   "source": [
    "df_fashion = df_chi[df_chi['Product line']=='Fashion accessories']\n",
    "df_food = df_chi[df_chi['Product line']=='Food and beverages']"
   ]
  },
  {
   "cell_type": "code",
   "execution_count": 108,
   "id": "d5abd8ec",
   "metadata": {},
   "outputs": [
    {
     "name": "stderr",
     "output_type": "stream",
     "text": [
      "C:\\ProgramData\\Anaconda3\\lib\\site-packages\\seaborn\\distributions.py:2557: FutureWarning: `distplot` is a deprecated function and will be removed in a future version. Please adapt your code to use either `displot` (a figure-level function with similar flexibility) or `histplot` (an axes-level function for histograms).\n",
      "  warnings.warn(msg, FutureWarning)\n"
     ]
    },
    {
     "data": {
      "text/plain": [
       "<AxesSubplot:xlabel='Total', ylabel='Density'>"
      ]
     },
     "execution_count": 108,
     "metadata": {},
     "output_type": "execute_result"
    },
    {
     "data": {
      "image/png": "[encoded data removed]",
      "text/plain": [
       "<Figure size 432x288 with 1 Axes>"
      ]
     },
     "metadata": {
      "needs_background": "light"
     },
     "output_type": "display_data"
    }
   ],
   "source": [
    "# Plot Fashion Accessories\n",
    "sns.distplot(df_fashion['Total'])"
   ]
  },
  {
   "cell_type": "code",
   "execution_count": 109,
   "id": "7b3071d2",
   "metadata": {},
   "outputs": [
    {
     "name": "stderr",
     "output_type": "stream",
     "text": [
      "C:\\ProgramData\\Anaconda3\\lib\\site-packages\\seaborn\\distributions.py:2557: FutureWarning: `distplot` is a deprecated function and will be removed in a future version. Please adapt your code to use either `displot` (a figure-level function with similar flexibility) or `histplot` (an axes-level function for histograms).\n",
      "  warnings.warn(msg, FutureWarning)\n"
     ]
    },
    {
     "data": {
      "text/plain": [
       "<AxesSubplot:xlabel='Total', ylabel='Density'>"
      ]
     },
     "execution_count": 109,
     "metadata": {},
     "output_type": "execute_result"
    },
    {
     "data": {
      "image/png": "[encoded data removed]",
      "text/plain": [
       "<Figure size 432x288 with 1 Axes>"
      ]
     },
     "metadata": {
      "needs_background": "light"
     },
     "output_type": "display_data"
    }
   ],
   "source": [
    "# Plot Food and Beverages\n",
    "sns.distplot(df_food['Total'])"
   ]
  },
  {
   "cell_type": "code",
   "execution_count": 115,
   "id": "eebf3b60",
   "metadata": {},
   "outputs": [
    {
     "name": "stdout",
     "output_type": "stream",
     "text": [
      "Fashion Accessories sample mean:305.089297752809\n",
      "Fashion Accessories sample std:243.56412968898724\n",
      "Fashion Accessories Kurtosis:0.3539314757981771\n",
      "Food and Beverages sample mean:322.6715172413793\n",
      "0.5019642093566969\n",
      "t-statistic:0.6720997846039186\n",
      "p-value:0.250982\n"
     ]
    },
    {
     "data": {
      "image/png": "[encoded data removed]",
      "text/plain": [
       "<Figure size 432x288 with 1 Axes>"
      ]
     },
     "metadata": {
      "needs_background": "light"
     },
     "output_type": "display_data"
    }
   ],
   "source": [
    "np.random.seed(123)\n",
    "fashion_total =df_fashion['Total']\n",
    "food_total = df_food['Total']\n",
    "print(\"Fashion Accessories sample mean:\" + str(fashion_total.mean()))\n",
    "print(\"Fashion Accessories sample std:\" + str(fashion_total.std()))\n",
    "print(\"Fashion Accessories Kurtosis:\" + str(fashion_total.kurtosis()))\n",
    "print(\"Food and Beverages sample mean:\" + str(food_total.mean()))\n",
    "\n",
    "# Independent T-Test\n",
    "t,p = stats.ttest_ind(food_total, fashion_total,equal_var=False)\n",
    "print(p)\n",
    "# ttest_ind is 2-tailed, so half the resulting p-value to get a 1-tailed p-value\n",
    "p1 = '%f' % (p/2)\n",
    "\n",
    "#2-tailed\n",
    "print(\"t-statistic:\" + str(t))\n",
    "print(\"p-value:\" + str(p1))\n",
    "\n",
    "pop = np.random.normal(fashion_total.mean(), fashion_total.std(), 100000)\n",
    "# calculate a 90% confidence interval. 10% of the probability is outside this, 5% in each tail\n",
    "ci = stats.norm.interval(0.90, fashion_total.mean(), fashion_total.std())\n",
    "plt.hist(pop, bins=100)\n",
    "# show the hypothesized population mean\n",
    "plt.axvline(pop.mean(), color='yellow', linestyle='dashed', linewidth=2)\n",
    "# show the right-tail confidence interval threshold - 5% of propbability is under the curve to the right of this.\n",
    "plt.axvline(ci[1], color='red', linestyle='dashed', linewidth=2)\n",
    "# show the right-tail confidence interval threshold - 5% of propbability is under the curve to the right of this.\n",
    "plt.axvline(ci[0], color='red', linestyle='dashed', linewidth=2)\n",
    "# show the t-statistic - the p-value is the area under the curve to the right of this\n",
    "plt.axvline(pop.mean() +  t*pop.std(), color='magenta', linestyle='dashed', linewidth=2)\n",
    "plt.show()"
   ]
  },
  {
   "cell_type": "markdown",
   "id": "df682da5",
   "metadata": {},
   "source": [
    "#### Kesimpulan :\n",
    "Nilai P-Value 0.25 > 0 artinya H0 diterima."
   ]
  },
  {
   "cell_type": "code",
   "execution_count": null,
   "id": "ee9329a4",
   "metadata": {},
   "outputs": [],
   "source": []
  }
 ],
 "metadata": {
  "kernelspec": {
   "display_name": "Python 3",
   "language": "python",
   "name": "python3"
  },
  "language_info": {
   "codemirror_mode": {
    "name": "ipython",
    "version": 3
   },
   "file_extension": ".py",
   "mimetype": "text/x-python",
   "name": "python",
   "nbconvert_exporter": "python",
   "pygments_lexer": "ipython3",
   "version": "3.8.8"
  }
 },
 "nbformat": 4,
 "nbformat_minor": 5
}
